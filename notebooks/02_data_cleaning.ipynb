{
 "cells": [
  {
   "cell_type": "code",
   "execution_count": 21,
   "id": "f4d35877",
   "metadata": {},
   "outputs": [],
   "source": [
    "import pandas as pd\n",
    "import numpy as np\n",
    "import time"
   ]
  },
  {
   "cell_type": "code",
   "execution_count": 22,
   "id": "8c47207a",
   "metadata": {},
   "outputs": [],
   "source": [
    "#CSV Function\n",
    "def save_df(df, path):\n",
    "    df.to_csv(path, index=False)\n",
    "    print(f\"Saved file to {path}\")"
   ]
  },
  {
   "cell_type": "code",
   "execution_count": 23,
   "id": "dadb3288",
   "metadata": {},
   "outputs": [],
   "source": [
    "#Shortcuts\n",
    "season_path = \"../data/processed/season_stats\"\n",
    "playoff_path = \"../data/processed/playoff_stats\"\n",
    "seasons = [\"2014-15\", \"2015-16\", \"2016-17\", \"2017-18\", \"2018-19\", \"2019-20\", \"2020-21\", \"2021-22\", \"2022-23\", \"2023-24\", \"2024-25\"]"
   ]
  },
  {
   "cell_type": "code",
   "execution_count": null,
   "id": "6ba43124",
   "metadata": {},
   "outputs": [],
   "source": [
    "# Base Stats\n",
    "def load_full_stats(season):\n",
    "    season_base_stats_df = pd.read_csv(f'../data/raw/season_stats/{season}_teams_base_stats.csv')\n",
    "    season_adv_stats_df = pd.read_csv(f'../data/raw/season_stats/{season}_teams_advanced_stats.csv')\n",
    "    stats = pd.merge(season_base_stats_df, season_adv_stats_df, on='TEAM_ID', how='outer', suffixes=('', '_adv'))\n",
    "    stats = stats.drop(columns=['TEAM_NAME_adv', 'GP_adv', 'W_adv', 'L_adv', 'W_PCT_adv', 'MIN_adv', \n",
    "                                            'GP_RANK_adv','W_RANK_adv', 'L_RANK_adv', 'W_PCT_RANK_adv', 'MIN_RANK_adv'])\n",
    "    save_df(stats, f\"{season_path}/{season}_season_stats.csv\")\n",
    "\n",
    "    time.sleep(1)"
   ]
  },
  {
   "cell_type": "code",
   "execution_count": 25,
   "id": "dd6f3bb1",
   "metadata": {},
   "outputs": [
    {
     "name": "stdout",
     "output_type": "stream",
     "text": [
      "Saved file to ../data/processed/season_stats/2014-15_season_stats.csv\n",
      "Saved file to ../data/processed/season_stats/2015-16_season_stats.csv\n",
      "Saved file to ../data/processed/season_stats/2016-17_season_stats.csv\n",
      "Saved file to ../data/processed/season_stats/2017-18_season_stats.csv\n",
      "Saved file to ../data/processed/season_stats/2018-19_season_stats.csv\n",
      "Saved file to ../data/processed/season_stats/2019-20_season_stats.csv\n",
      "Saved file to ../data/processed/season_stats/2020-21_season_stats.csv\n",
      "Saved file to ../data/processed/season_stats/2021-22_season_stats.csv\n",
      "Saved file to ../data/processed/season_stats/2022-23_season_stats.csv\n",
      "Saved file to ../data/processed/season_stats/2023-24_season_stats.csv\n",
      "Saved file to ../data/processed/season_stats/2024-25_season_stats.csv\n"
     ]
    }
   ],
   "source": [
    "for year in seasons:\n",
    "    load_full_stats(year)"
   ]
  },
  {
   "cell_type": "code",
   "execution_count": 26,
   "id": "e210ca09",
   "metadata": {},
   "outputs": [],
   "source": [
    "# Playoff Stats\n",
    "def load_full_stats_playoff(season):\n",
    "    season_base_stats_df = pd.read_csv(f'../data/raw/playoff_stats/{season}_teams_base_stats.csv')\n",
    "    season_adv_stats_df = pd.read_csv(f'../data/raw/playoff_stats/{season}_teams_advanced_stats.csv')\n",
    "    stats = pd.merge(season_base_stats_df, season_adv_stats_df, on='TEAM_ID', how='outer', suffixes=('', '_adv'))\n",
    "    stats = stats.drop(columns=['TEAM_NAME_adv', 'GP_adv', 'W_adv', 'L_adv', 'W_PCT_adv', 'MIN_adv', \n",
    "                                            'GP_RANK_adv','W_RANK_adv', 'L_RANK_adv', 'W_PCT_RANK_adv', 'MIN_RANK_adv'])\n",
    "    save_df(stats, f\"{playoff_path}/{season}_playoff_stats.csv\")\n",
    "\n",
    "    time.sleep(1)"
   ]
  },
  {
   "cell_type": "code",
   "execution_count": 27,
   "id": "c6a446c2",
   "metadata": {},
   "outputs": [
    {
     "name": "stdout",
     "output_type": "stream",
     "text": [
      "Saved file to ../data/processed/playoff_stats/2014-15_playoff_stats.csv\n",
      "Saved file to ../data/processed/playoff_stats/2015-16_playoff_stats.csv\n",
      "Saved file to ../data/processed/playoff_stats/2016-17_playoff_stats.csv\n",
      "Saved file to ../data/processed/playoff_stats/2017-18_playoff_stats.csv\n",
      "Saved file to ../data/processed/playoff_stats/2018-19_playoff_stats.csv\n",
      "Saved file to ../data/processed/playoff_stats/2019-20_playoff_stats.csv\n",
      "Saved file to ../data/processed/playoff_stats/2020-21_playoff_stats.csv\n",
      "Saved file to ../data/processed/playoff_stats/2021-22_playoff_stats.csv\n",
      "Saved file to ../data/processed/playoff_stats/2022-23_playoff_stats.csv\n",
      "Saved file to ../data/processed/playoff_stats/2023-24_playoff_stats.csv\n",
      "Saved file to ../data/processed/playoff_stats/2024-25_playoff_stats.csv\n"
     ]
    }
   ],
   "source": [
    "for year in seasons:\n",
    "    load_full_stats_playoff(year)"
   ]
  }
 ],
 "metadata": {
  "kernelspec": {
   "display_name": ".venv",
   "language": "python",
   "name": "python3"
  },
  "language_info": {
   "codemirror_mode": {
    "name": "ipython",
    "version": 3
   },
   "file_extension": ".py",
   "mimetype": "text/x-python",
   "name": "python",
   "nbconvert_exporter": "python",
   "pygments_lexer": "ipython3",
   "version": "3.13.3"
  }
 },
 "nbformat": 4,
 "nbformat_minor": 5
}
