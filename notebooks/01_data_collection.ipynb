{
 "cells": [
  {
   "cell_type": "code",
   "execution_count": null,
   "id": "2c5dce8a",
   "metadata": {},
   "outputs": [],
   "source": [
    "#NBA Championshi Prediction\n",
    "#01 - Data Collection Notebook"
   ]
  },
  {
   "cell_type": "code",
   "execution_count": null,
   "id": "d8faa808",
   "metadata": {},
   "outputs": [],
   "source": [
    "import pandas as pd\n",
    "import time \n",
    "from nba_api.stats.endpoints import leaguegamelog, leaguedashteamstats"
   ]
  },
  {
   "cell_type": "code",
   "execution_count": 2,
   "id": "76ff017c",
   "metadata": {},
   "outputs": [],
   "source": [
    "#Helper Function\n",
    "def save_df(df, path):\n",
    "    df.to_csv(path, index=False)\n",
    "    print(f\"Saved file to {path}\")"
   ]
  },
  {
   "cell_type": "code",
   "execution_count": null,
   "id": "3326b1a5",
   "metadata": {},
   "outputs": [],
   "source": [
    "#1. Pull Regular Season Games"
   ]
  },
  {
   "cell_type": "code",
   "execution_count": 4,
   "id": "05c6fe66",
   "metadata": {},
   "outputs": [
    {
     "name": "stdout",
     "output_type": "stream",
     "text": [
      "Pulling regular season game logs...\n",
      "Saved file to ../data/raw/2024-25_regular_season_games.csv\n",
      "2024-25_regular_season_games Saved\n"
     ]
    }
   ],
   "source": [
    "print(\"Pulling regular season game logs...\")\n",
    "log = leaguegamelog.LeagueGameLog(season='2024-25', season_type_all_star='Regular Season')\n",
    "games_df = log.get_data_frames()[0]\n",
    "save_df(games_df, '../data/raw/2024-25_regular_season_games.csv')\n",
    "time.sleep(1) #API care\n",
    "print(\"2024-25_regular_season_games Saved\")"
   ]
  },
  {
   "cell_type": "code",
   "execution_count": null,
   "id": "99db5535",
   "metadata": {},
   "outputs": [],
   "source": [
    "#2. Pull Team Base Stats"
   ]
  },
  {
   "cell_type": "code",
   "execution_count": 5,
   "id": "dd3c0a81",
   "metadata": {},
   "outputs": [
    {
     "name": "stdout",
     "output_type": "stream",
     "text": [
      "Pulling team base stats...\n",
      "Saved file to ../data/raw/2024-25_teams_stats_base.csv\n",
      "2024-25_team_stats_base Saved\n"
     ]
    }
   ],
   "source": [
    "print(\"Pulling team base stats...\")\n",
    "team_base = leaguedashteamstats.LeagueDashTeamStats(\n",
    "    season='2024-25',\n",
    "    season_type_all_star='Regular Season',\n",
    "    measure_type_detailed_defense='Base'\n",
    ")\n",
    "teams_base_df = team_base.get_data_frames()[0]\n",
    "save_df(teams_base_df, '../data/raw/2024-25_teams_stats_base.csv')\n",
    "time.sleep(1)\n",
    "print(\"2024-25_team_stats_base Saved\")"
   ]
  },
  {
   "cell_type": "code",
   "execution_count": null,
   "id": "83925101",
   "metadata": {},
   "outputs": [],
   "source": [
    "#3. Pull Teams Advanced Stats"
   ]
  },
  {
   "cell_type": "code",
   "execution_count": 6,
   "id": "7e868a1f",
   "metadata": {},
   "outputs": [
    {
     "name": "stdout",
     "output_type": "stream",
     "text": [
      "Pulling team advanced stats...\n",
      "Saved file to ../data/raw/2024-25_teams_stats_advanced.csv\n",
      "2024-25_team_stats_advanced Saved\n"
     ]
    }
   ],
   "source": [
    "print(\"Pulling team advanced stats...\")\n",
    "team_advanced = leaguedashteamstats.LeagueDashTeamStats(\n",
    "    season='2024-25',\n",
    "    season_type_all_star='Regular Season',\n",
    "    measure_type_detailed_defense='Advanced' \n",
    ")\n",
    "teams_advanced_df = team_advanced.get_data_frames()[0]\n",
    "save_df(teams_advanced_df, '../data/raw/2024-25_teams_stats_advanced.csv')\n",
    "time.sleep(1)\n",
    "print(\"2024-25_team_stats_advanced Saved\")"
   ]
  }
 ],
 "metadata": {
  "kernelspec": {
   "display_name": ".venv",
   "language": "python",
   "name": "python3"
  },
  "language_info": {
   "codemirror_mode": {
    "name": "ipython",
    "version": 3
   },
   "file_extension": ".py",
   "mimetype": "text/x-python",
   "name": "python",
   "nbconvert_exporter": "python",
   "pygments_lexer": "ipython3",
   "version": "3.12.2"
  }
 },
 "nbformat": 4,
 "nbformat_minor": 5
}
